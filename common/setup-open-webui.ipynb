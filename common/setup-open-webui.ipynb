{
 "cells": [
  {
   "cell_type": "markdown",
   "id": "b6a97f09",
   "metadata": {},
   "source": [
    "# Open WebUI Setup\n",
    "\n",
    "1.  Install Podman\n",
    "\n",
    "* On Mac (using Homebrew)\n",
    "brew install podman\n",
    "\n",
    "* On Windows\n",
    "Download the installer from [https://podman.io/download/](https://podman.io/download/) and follow the installation instructions.\n",
    "\n",
    "2. Install Ollama from https://ollama.com/download\n",
    "\n",
    "3. Install Gemma3 Model\n",
    "```    \n",
    "ollama run gemma3\n",
    "```\n",
    "4. Start Open WebUI with Podman\n",
    "```\n",
    "podman run -d --name openwebui -p 3000:8080 -v open-webui:/app/backend/data ghcr.io/open-webui/open-webui:main\n",
    "```\n",
    "5. Verify that container is running\n",
    "```\n",
    "podman ps\n",
    "```\n",
    "6. Visit:\n",
    "* http://localhost:3000 to access Open WebUI.\n",
    "* or http://localhost:8080/ when using a Python deployment."
   ]
  }
 ],
 "metadata": {
  "language_info": {
   "name": "python"
  }
 },
 "nbformat": 4,
 "nbformat_minor": 5
}
